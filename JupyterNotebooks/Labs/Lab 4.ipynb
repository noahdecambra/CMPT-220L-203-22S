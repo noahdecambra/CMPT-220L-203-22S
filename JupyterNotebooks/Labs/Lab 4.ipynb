{
 "cells": [
  {
   "cell_type": "markdown",
   "metadata": {},
   "source": [
    "# Lab 4\n",
    "### Looping and Methods(Functions)\n",
    "### Software Development 1\n",
    "### CMPT 220\n",
    "### Due: 02/17/2022 by Midnight\n",
    "\n",
    "\n",
    "Background  \n",
    "We’re looking to play around with some loops and making a few functions. We want to get familiar with using these because they’re going to be the building block for things going forward. \n",
    "\n",
    "\n",
    "Objectives\n",
    "- Sync your Git repo (Done in Lab 2 if you need help)\n",
    "- Open the Java Lab for lab 4 (will be in the git repo that you cloned in Lab 2)\n",
    "- Follow the flow of the document and complete it\n",
    "- Commit your changes to GitHub using [Committing and reviewing changes to your project](https://docs.github.com/en/desktop/contributing-and-collaborating-using-github-desktop/committing-and-reviewing-changes-to-your-project)\n",
    "- Submit lab with screenshot of your pushed lab on GitHub when it’s finished\n",
    "\n",
    "\n",
    "Deliverables\n",
    "1) Screenshot of lab pushed to GitHub\n",
    "\n",
    "Instructions\n",
    "1) Pull down notebooks from the fork. \n",
    "2) Run and add to the Jupyter Notebook\n",
    "3) Commit changes\n",
    "4) Push to GitHub\n",
    "5) Submit screenshot of lab pushed to GitHub\n",
    "\n",
    "\n",
    "Grading  \n",
    "Grading will be based on content, accuracy, thoroughness, and adherence to instructions for credit up to a single lab assignment.\n",
    "\n",
    "Submission  \n",
    "Please submit the assignment, and the screenshot via iLearn and then commit your latest code to your git repository.\n",
    "\n",
    "\n",
    "Resources\n",
    "- [Cloning a repository from GitHub to GitHub Desktop](https://docs.github.com/en/desktop/contributing-and-collaborating-using-github-desktop/cloning-a-repository-from-github-to-github-desktop)\n",
    "- [How to sync your forked repo with original Repo in Github Desktop](https://stackoverflow.com/questions/46110615/how-to-sync-your-forked-repo-with-original-repo-in-github-desktop)\n",
    "- [Pushing changes to GitHub](https://docs.github.com/en/desktop/contributing-and-collaborating-using-github-desktop/pushing-changes-to-github)\n",
    "\n",
    "\n"
   ]
  }
 ],
 "metadata": {
  "interpreter": {
   "hash": "6b5318982f8d72d90cd36bfa2e98546ee27090b6a028d8e71394b9f0a4a0e32e"
  },
  "kernelspec": {
   "display_name": "Python 3.9.0 64-bit ('3.9.0')",
   "language": "python",
   "name": "python3"
  },
  "language_info": {
   "name": "python",
   "version": "3.9.0"
  },
  "orig_nbformat": 4
 },
 "nbformat": 4,
 "nbformat_minor": 2
}
