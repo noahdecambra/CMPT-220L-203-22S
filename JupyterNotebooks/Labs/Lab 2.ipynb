{
 "cells": [
  {
   "cell_type": "markdown",
   "metadata": {},
   "source": [
    "# Lab 2\n",
    "---\n",
    "- ### Software Development 1\n",
    "- ### CMPT 220\n",
    "- ### Due: 02/03/2022 by Midnight\n",
    "\n",
    "\n",
    "The second lab should also be fairly simple. We’re going to be looking at the doc on getting your forked repo synced with mine. I’d advise that you download [GitHub Desktop | Simple collaboration from your desktop.](https://desktop.github.com/) Considering dealing with terminals has been a little tedious. As shown in class it is possible to do these things in the terminal. We may want to revisit that a little further into class when people are a little more comfortable if they’d like.\n",
    "\n",
    "After doing so we need to clone your forked repo and then sync it. To do this you can follow the steps here. [Cloning a repository from GitHub to GitHub Desktop.](https://docs.github.com/en/desktop/contributing-and-collaborating-using-github-desktop/cloning-a-repository-from-github-to-github-desktop) After you clone you can look into this guide to [How to sync your forked repo with original Repo in Github Desktop.](https://stackoverflow.com/questions/46110615/how-to-sync-your-forked-repo-with-original-repo-in-github-desktop) After that you’ll need to push the changes that you synced so that I can see them and you can get credit and that is here. [Pushing changes to GitHub](https://docs.github.com/en/desktop/contributing-and-collaborating-using-github-desktop/pushing-changes-to-github)\n",
    "\n",
    "Once you've pulled successfully there will be a new JavaLabs folder with a Lab 2. \n",
    "\n",
    "<!-- Open that folder **and this is important** and complete the Java portion of the lab inside. -->\n",
    "\n",
    "Grading will be based on content, accuracy, thoroughness, and adherence to instructions for credit up to a single homework assignment. \n",
    "\n",
    "First submit the assignment by pushing your synced repository to your GitHub account on [https://github.com/.](https://github.com/) You’ll know if you did this properly because you’ll have the Lesson Two notebook. You’ll also have the file for the lab. Second, on iLearn, submit the assignment with a screenshot of your synced repo on Github.\n"
   ]
  }
 ],
 "metadata": {
  "kernelspec": {
   "display_name": "Java",
   "language": "java",
   "name": "java"
  },
  "language_info": {
   "name": "java"
  },
  "orig_nbformat": 4
 },
 "nbformat": 4,
 "nbformat_minor": 2
}
