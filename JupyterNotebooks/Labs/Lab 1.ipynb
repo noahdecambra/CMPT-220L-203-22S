{
 "cells": [
  {
   "cell_type": "markdown",
   "metadata": {},
   "source": [
    "# Lab 1\n",
    "---\n",
    "- ### Software Development 1\n",
    "- ### CMPT 220\n",
    "- ### Due: 01/27/2022 by Midnight\n",
    "\n",
    "There are quite a few tools that we’ll need to get started this semester. This first assignment will be all about getting set up. This is a task in itself when we’re just getting started.\n",
    "\n",
    "Complete these objectives:\n",
    "- Sign up for an account if you don’t already have one at https://github.com\n",
    "    - This is what we’re going to use to store all of our code for the semester.\n",
    "    - Our course repository is here https://github.com/AKippins/CMPT-220L-203-22S\n",
    "    - You’ll want to fork this repository (The site should look like this. The fork button is in the upper right) https://docs.github.com/en/github/getting-started-with-github/fork-a-repo\n",
    "\n",
    "![GitRepo](../../Assets/GitRepo.png)\n",
    "- You’ll also need to get Java installed on your machines. https://www.oracle.com/java/technologies/downloads/\n",
    "\n",
    "- We’re almost done I promise. Next you’re gonna install IntelliJ!\n",
    "    - https://www.jetbrains.com/idea/\n",
    "\n",
    "- Finally you’ll want to install Visual Studio Code which you can get here. https://code.visualstudio.com/\n",
    "    - There are a couple extensions that you’ll also want. I’ll link them below!\n",
    "        - https://marketplace.visualstudio.com/items?itemName=vscjava.vscode-java-pack\n",
    "        - https://marketplace.visualstudio.com/items?itemName=ms-python.python\n",
    "\n",
    "### Installing Jupyter (Optional!!!)\n",
    "- This part may be a little confusing but it’s optional! We’ll install Jupyter Notebooks as well as the Java Kernel for it.\n",
    "    - Installing Jupyter Notebooks shouldn’t be too bad if you don’t already have them. I’d recommend the pip install. You should have learned to do that in the intro course. \n",
    "        - https://jupyter.org/install\n",
    "        - This will allow you to run the server component that we use as a backup in instances. We can check to see if this installed properly by running `jupyter-lab` in the command line. You may need to run `python -m jupyter-lab` for Windows. A browser window like the one below should appear.\n",
    "        - Take note that I have Java in mine. Now we need to get that for you as well.\n",
    "\n",
    "    ![Jupyter](../../Assets/Jupyter.png)\n",
    "    - Next we need the right Kernel for Jupyter, the default language for Jupyter Notebooks is Python and this is a Java course so that doesn’t help us lol. This is the location of the Repo for the Kernel\n",
    "        - https://github.com/SpencerPark/IJava#installing\n",
    "        - I personally installed from the binaries and didn’t have any issue. Lemme know if you have trouble with this step. (Screenshots are ALWAYS preferred)\n",
    "        - You can check if this worked in one of three ways. One will be through the command line. See picture above with Java icon. If you start Jupyter Notebooks from the command line again Java should be there now. Second, you can run the command `jupyter kernelspec list`. You should get something like the images below. We’ll be able to make sure this works a third and probably easier way, in a second.\n",
    "    ![KernelSpec](../../Assets/KernelSpec.png)\n",
    "\n",
    "    - After doing ALL of this if you clone your forked repo and open it in VSCode. You should be able to click the language in the bottom right. For me it's Java. A drop down should appear and you should have the option Java. Please ignore my mess of an environment ^_^ You’ll be able to go to the bottom of our lesson and run the print statement. If that works you’re all good!\n",
    "\n",
    "![KernelsView](../../Assets/KernelsView.png)\n",
    "Grading will be based on content, accuracy, thoroughness, and adherence to instructions for credit up to a single homework assignment. This first assignment will be more on the lenient side. In terms of preparation but as time moves forward this will not likely be the case.\n",
    "\n",
    "First submit the assignment by forking the repository to your GitHub account on https://github.com/ under a project named your_username_here/CMPT-220L-903-22S.  Second, on iLearn, submit the assignment with your GitHub username, a link to the project repository, and a screenshot of your command line processor after you’ve run Jupyter Lab and show Java.\n",
    "\n"
   ]
  },
  {
   "cell_type": "markdown",
   "metadata": {},
   "source": []
  }
 ],
 "metadata": {
  "kernelspec": {
   "display_name": "Java",
   "language": "java",
   "name": "java"
  },
  "language_info": {
   "name": "java"
  },
  "orig_nbformat": 4
 },
 "nbformat": 4,
 "nbformat_minor": 2
}
