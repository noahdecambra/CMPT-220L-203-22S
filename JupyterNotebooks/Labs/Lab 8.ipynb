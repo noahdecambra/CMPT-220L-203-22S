{
 "cells": [
  {
   "cell_type": "markdown",
   "metadata": {},
   "source": [
    "# Lab 8\n",
    "---\n",
    "### Makeshift Linked List Continued\n",
    "### Software Development 1\n",
    "### CMPT 220\n",
    "### Due: 04/14/2022 by Midnight\n",
    "\n",
    "\n",
    "### Background\n",
    "We’re going to add to the class that we used in the last lab. This Lab will be in IntelliJ. \n",
    "\n",
    "\n",
    "### Objectives\n",
    "- Create a Lab 8 folder in our Labs folder.\n",
    "- Copy over your list class.\n",
    "- We want to add a couple things.\n",
    "    - We want a function to add things to the end of the list\n",
    "    - We want a function to delete things from the list.\n",
    "    - We want a function to return the list in order. \n",
    "- Commit your changes to GitHub using Committing and reviewing changes to your project\n",
    "- Submit lab with screenshot of your pushed lab on GitHub when it’s finished\n",
    "\n",
    "\n",
    "### Deliverables\n",
    "1) Screenshot of lab pushed to GitHub\n",
    "\n",
    "### Instructions\n",
    "1) Create a new IntelliJ project\n",
    "2) Complete the Lab\n",
    "3) Commit changes\n",
    "4) Push to GitHub\n",
    "5) Submit screenshot of lab pushed to GitHub\n",
    "\n",
    "\n",
    "### Grading\n",
    "Grading will be based on content, accuracy, thoroughness, and adherence to instructions for credit up to a single lab assignment.\n",
    "\n",
    "### Submission\n",
    "Please submit the assignment, and the screenshot via iLearn and then commit your latest code to your git repository.\n",
    "\n",
    "\n",
    "### Resources\n",
    "- Cloning a repository from GitHub to GitHub Desktop\n",
    "- How to sync your forked repo with original Repo in Github Desktop\n",
    "- Pushing changes to GitHub\n",
    "\n",
    "\n"
   ]
  }
 ],
 "metadata": {
  "interpreter": {
   "hash": "6b5318982f8d72d90cd36bfa2e98546ee27090b6a028d8e71394b9f0a4a0e32e"
  },
  "kernelspec": {
   "display_name": "Java",
   "language": "java",
   "name": "java"
  },
  "language_info": {
   "name": "java",
   "version": "3.9.0"
  },
  "orig_nbformat": 4
 },
 "nbformat": 4,
 "nbformat_minor": 2
}
