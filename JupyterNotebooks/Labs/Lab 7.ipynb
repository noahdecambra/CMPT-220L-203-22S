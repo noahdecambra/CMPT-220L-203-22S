{
 "cells": [
  {
   "cell_type": "markdown",
   "metadata": {},
   "source": [
    "# Lab 7\n",
    "---\n",
    "### Makeshift Linked List\n",
    "### Software Development 1\n",
    "### CMPT 220\n",
    "### Due: 03/31/2022 by Midnight\n",
    "\n",
    "\n",
    "### Background\n",
    "We’re going to take a look at what it takes to make our own version of a Linked Lists with our knowledge of Objects. This Lab will be in IntelliJ. \n",
    "\n",
    "\n",
    "### Objectives\n",
    "- Create a Lab 7 folder in our JavaLabs folder.\n",
    "- We want to take the things that we already know such as\n",
    "    - Making objects\n",
    "    - What reference data types are capable of storing\n",
    "    - Trees & Nodes\n",
    "    - Our People class and children example\n",
    "- We don’t want to do everything here we’re looking to do the following:\n",
    "    - We want to create our own object (lets call it listItem) that will hold a value and another instance of our object that we created.\n",
    "        - listItem (recommended basic configuration (feel free to change this if you think you need to))\n",
    "            - value = <Any Data Type> (value in the constructor)\n",
    "            - listItem = None (value in the constructor)\n",
    "    - Be able to chain our objects together\n",
    "    - Chain 4 instances of our list items together\n",
    "\n",
    "- Commit your changes to GitHub using Committing and reviewing changes to your project\n",
    "- Submit lab with screenshot of your pushed lab on GitHub when it’s finished\n",
    "\n",
    "\n",
    "### Deliverables\n",
    "1) Screenshot of lab pushed to GitHub\n",
    "\n",
    "### Instructions\n",
    "1) Create a new IntelliJ project\n",
    "2) Complete the Lab\n",
    "3) Commit changes\n",
    "4) Push to GitHub\n",
    "5) Submit screenshot of lab pushed to GitHub\n",
    "\n",
    "\n",
    "### Grading\n",
    "Grading will be based on content, accuracy, thoroughness, and adherence to instructions for credit up to a single lab assignment.\n",
    "\n",
    "### Submission\n",
    "Please submit the assignment, and the screenshot via iLearn and then commit your latest code to your git repository.\n",
    "\n",
    "\n",
    "### Resources\n",
    "- Cloning a repository from GitHub to GitHub Desktop\n",
    "- How to sync your forked repo with original Repo in Github Desktop\n",
    "- Pushing changes to GitHub\n",
    "\n",
    "\n"
   ]
  }
 ],
 "metadata": {
  "kernelspec": {
   "display_name": "Java",
   "language": "java",
   "name": "java"
  },
  "language_info": {
   "name": "java"
  },
  "orig_nbformat": 2
 },
 "nbformat": 4,
 "nbformat_minor": 2
}
