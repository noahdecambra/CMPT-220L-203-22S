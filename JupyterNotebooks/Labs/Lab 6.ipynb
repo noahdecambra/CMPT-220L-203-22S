{
 "cells": [
  {
   "cell_type": "markdown",
   "metadata": {},
   "source": [
    "# Lab 6\n",
    "### Software Development 1\n",
    "### CMPT 220\n",
    "### Due: 03/03/2022 by Midnight\n",
    "\n",
    "The sixth lab will continue our practice in Intellij. We’re going to be making our own objects.\n",
    "\n",
    "Your goals for this lab are to:\n",
    "- Use the project called lab 6 in your labs folder.\n",
    "- So for this lab I want you to make a Plant class in a separate file and call it from the main file. This is going to resemble what we did in the Mammal example.\n",
    "- Plant should have the following characteristics in the class (Choose the appropriate data types):\n",
    "    - needsWatering\n",
    "    - plantFamily\n",
    "    - Name\n",
    "- Plant should have the following functions(methods) in the class:\n",
    "    - wateringInstructions\n",
    "    - sunlightRequirements\n",
    "- From the main function create an instance of Plant that you created.\n",
    "- Run the program using the green play button that pops up\n",
    "\n",
    "- Submit the lab by pushing your repo and submitting a screenshot of your commit to iLearn\n",
    "\n",
    "Commit and push your changes to GitHub, and submit a screenshot with your webpage to iLearn.\n",
    "\n",
    "Grading will be based on content, accuracy, thoroughness, and adherence to instructions for credit up to a single homework assignment. \n",
    "\n",
    "First submit the assignment by pushing your synced repository to your GitHub account on https://github.com/. You’ll know if you did this properly because you’ll have the Lesson Two notebook. You’ll also have the file for the lab. Second, on iLearn, submit the assignment with a screenshot of your synced repo on Github.\n"
   ]
  }
 ],
 "metadata": {
  "kernelspec": {
   "display_name": "Java",
   "language": "java",
   "name": "java"
  },
  "language_info": {
   "name": "java"
  },
  "orig_nbformat": 2
 },
 "nbformat": 4,
 "nbformat_minor": 2
}
